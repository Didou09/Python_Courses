{
 "cells": [
  {
   "cell_type": "markdown",
   "metadata": {
    "slideshow": {
     "slide_type": "slide"
    }
   },
   "source": [
    "# Python - an introduction"
   ]
  },
  {
   "cell_type": "markdown",
   "metadata": {
    "slideshow": {
     "slide_type": "subslide"
    }
   },
   "source": [
    "## Disclaimer\n",
    "\n",
    "* All trainers are volunteers.\n",
    "* We are no experts, just regular python users (for science, data treatment...).\n",
    "* We'll do our best but there is no doubt we won't have answers to all questions.\n",
    "\n",
    "Practice, practice, practice..."
   ]
  },
  {
   "cell_type": "markdown",
   "metadata": {
    "slideshow": {
     "slide_type": "slide"
    }
   },
   "source": [
    "# What is Python ?"
   ]
  },
  {
   "cell_type": "markdown",
   "metadata": {
    "slideshow": {
     "slide_type": "subslide"
    }
   },
   "source": [
    "## Why Python ?\n",
    "\n",
    "* Free        (open-source)\n",
    "* Transparent (open-source)\n",
    "* Reliable and advanced\n",
    "* Readable    (indentation)\n",
    "* Very portable and modular\n",
    "* Large scientific community of users\n",
    "    * Lots of libraries for science\n",
    "    * Scientific needs and culture\n",
    "* Interpreted (no compiling)\n",
    "Dynamically typed (variables change type on-the-fly)"
   ]
  },
  {
   "cell_type": "markdown",
   "metadata": {
    "collapsed": true,
    "slideshow": {
     "slide_type": "subslide"
    }
   },
   "source": [
    "## Modularity vs all-in-one\n",
    "\n",
    "\n",
    "![Ecosystems](img/Intro_Ecosystem.png)"
   ]
  },
  {
   "cell_type": "markdown",
   "metadata": {
    "slideshow": {
     "slide_type": "subslide"
    }
   },
   "source": [
    "## A good package manager is needed !\n",
    "\n",
    "A Package manager cross-checks compatibility between libraries and identifies dependencies.\n",
    "It knows what you have, and has access to an online repository to downloads additional libraries, updates...\n",
    "\n",
    "* Package managers for *linux*: apt-get, yum...\n",
    "* Package managers for *python* : pip, conda..."
   ]
  },
  {
   "cell_type": "markdown",
   "metadata": {
    "slideshow": {
     "slide_type": "subslide"
    }
   },
   "source": [
    "## A good package manager is needed !\n",
    "\n",
    "**PIP**\n",
    "* The 'standard' python package manager\n",
    "* Downloads source (i.e.: not compiled) files from *Pypi* (https://pypi.python.org/pypi)\n",
    "* Recommended for advanced users"
   ]
  },
  {
   "cell_type": "markdown",
   "metadata": {
    "slideshow": {
     "slide_type": "fragment"
    }
   },
   "source": [
    "**CONDA**\n",
    "* Python package manager of the Anaconda distribution.\n",
    "* Anaconda = pre-set Python distribution with all common libraries\n",
    "* Downloads pre-compiled files from https://anaconda.org/ \n",
    "* Recommended for most (installed on intra)"
   ]
  },
  {
   "cell_type": "markdown",
   "metadata": {
    "slideshow": {
     "slide_type": "subslide"
    }
   },
   "source": [
    "## Python installation (using Anaconda, on linux)\n",
    "\n",
    "Go to https://docs.anaconda.com/anaconda/ \n",
    "\n",
    "Dowload the anaconda installer (bash script) and execute it.\n",
    "\n",
    "Anaconda installs all common libraries.\n",
    "It also installs *conda*, if you need to add other libraries\n",
    "\n",
    "**Good news**:\n",
    "All of this is already done on *intra*"
   ]
  },
  {
   "cell_type": "markdown",
   "metadata": {
    "slideshow": {
     "slide_type": "subslide"
    }
   },
   "source": [
    "## Python 2 or 3 ?\n",
    "\n",
    "* **Python 2**:\n",
    "    * The historic heavywieght, lots of libraries, robust, widespread...\n",
    "    * Python 2.7 is the last version\n",
    "* **Python 3**: \n",
    "    * The developpers wanted to implement improvements in the next version of Python that would make it not retro-compatible => they started Python 3\n",
    "    * In practice, the differences are minor (print is a function instead of a statement, character strings are encoded differently...)\n",
    "    * Most libraries are now compatible with Python 3 too, and this trend will strengthen in the future\n",
    "    * Python 3.6 is the latest stable version, 3.7 is coming...\n",
    "    \n",
    "If you are starting Python now => Use Python 3\n",
    "(+ most IRFM-specific libraries are Python 3-only, e.g.: pywed)"
   ]
  },
  {
   "cell_type": "markdown",
   "metadata": {
    "slideshow": {
     "slide_type": "subslide"
    }
   },
   "source": [
    "## What can you do with Python ?\n",
    "\n",
    "\n",
    "More or less everything... the question is rather *which library shall I use for my needs?*\n",
    "\n",
    "Indeed, there are plenty of libraries already existing that probably do what you want.\n",
    "\n",
    "Examples\n",
    "---------\n",
    "* **numpy** : vectorized computation (large matrices and operations on them)\n",
    "* **scipy** : scientific computing (compatoble with numpy, provides advanced functions like fft, minimization, interpolation...)\n",
    "* **pandas** : handle large table with heterogeneous data\n",
    "* **Sympy** : symbolic maths\n",
    "* **matplotlib** : pubication-quality data plotting (2D), matlab-inspired\n",
    "* **mayavi**, **vispy**, **paraview**... : 3D plotting, large datasets...\n",
    "* **bokeh** : web-based visualization\n",
    "* **scikit-learn** : machine learning\n",
    "* **scikit-image**: image processing\n",
    "* **warnings** : implement warnings in codes\n",
    "* **os** : perform bash operations from python\n",
    "* **pexpect** : handle os operations that expect answers (i.e.: ssh...)\n",
    "* **Cython** : C-like optimization of Python code\n",
    "* ..."
   ]
  },
  {
   "cell_type": "markdown",
   "metadata": {
    "slideshow": {
     "slide_type": "subslide"
    }
   },
   "source": [
    "## Python is now mature\n",
    "\n",
    "It took time but Python can now be considered mature (number of libraries, wide community of users, harmonized good practices...).\n",
    "\n",
    "Reference guide for good coding practices in Python (PEPs):\n",
    "https://www.python.org/dev/peps/\n",
    "\n",
    "Useful sources of info:\n",
    "* Forum with most answers: https://stackoverflow.com/\n",
    "* Online free video Python lessons by INRIA (themed) : https://www.youtube.com/channel/UCWpkVtH93qQ5JpSZEwONjGA\n",
    "* Official documentation of each library : http://www.numpy.org/, https://matplotlib.org/ ...\n",
    "* Julien Hillairet's crash course: https://github.com/jhillairet/Python_Course_For_Fusion \n",
    "* Python Data Science Handbook : https://jakevdp.github.io/PythonDataScienceHandbook/ \n",
    "* Numerical Python : https://www.apress.com/us/book/9781484205549\n"
   ]
  },
  {
   "cell_type": "markdown",
   "metadata": {
    "slideshow": {
     "slide_type": "slide"
    }
   },
   "source": [
    "# Methodology"
   ]
  },
  {
   "cell_type": "markdown",
   "metadata": {
    "slideshow": {
     "slide_type": "subslide"
    }
   },
   "source": [
    "## How shall I work with Python?\n",
    "\n",
    "* **IDE** : Integrated Development Environment\n",
    "    * Provide all-in-one solution : editor, console, debugger, variables tracking...\n",
    "    * Matlab-like\n",
    "    * Very practical but heavy\n",
    "    * The main IDEs for Python are **spyder** (matlab-inspired) and **pycharm** (python-optimized)"
   ]
  },
  {
   "cell_type": "markdown",
   "metadata": {
    "slideshow": {
     "slide_type": "fragment"
    }
   },
   "source": [
    "* **Editor + IPython console**:\n",
    "    * Edit your code in the editor, execute it in the console, track variables with prints, use the built-in debugger...\n",
    "    * The IPython console natively provides several features of IDEs (completion, debugger...) + magic words\n",
    "    * The \"good old way\", lightweight and more portable    "
   ]
  },
  {
   "cell_type": "markdown",
   "metadata": {
    "slideshow": {
     "slide_type": "-"
    }
   },
   "source": [
    "In both cases, it is highly recommended to know the **IPython console** !"
   ]
  },
  {
   "cell_type": "markdown",
   "metadata": {
    "slideshow": {
     "slide_type": "slide"
    }
   },
   "source": [
    "# IPython console"
   ]
  },
  {
   "cell_type": "markdown",
   "metadata": {
    "slideshow": {
     "slide_type": "subslide"
    }
   },
   "source": [
    "## IPython console\n",
    "\n",
    "\n",
    "IPython console = Python console... but better!\n",
    "\n",
    "\"I\" => *interactive* shell for Python\n",
    "\n",
    "* Tab completion\n",
    "* Inline help\n",
    "* Syntax highlighting\n",
    "* Magic functions (fast shortcuts)\n",
    "* Built-in debugger\n",
    "* System shell commands\n",
    "* ...\n",
    "\n",
    "Tutorial: http://ipython.readthedocs.io/en/stable/interactive/tutorial.html "
   ]
  },
  {
   "cell_type": "markdown",
   "metadata": {
    "slideshow": {
     "slide_type": "subslide"
    }
   },
   "source": [
    "## Getting prepared\n",
    "\n",
    "* Connect to intra (nashira, sirrah, spica...) with your Unix account\n",
    "* Open a terminal\n",
    "* Load the imas modules (which loads imas but also Anaconda/Python3.6):\n",
    "    > module load imas\n",
    "* Start an IPython console:\n",
    "    > ipython"
   ]
  },
  {
   "cell_type": "markdown",
   "metadata": {
    "slideshow": {
     "slide_type": "subslide"
    }
   },
   "source": [
    "## Inputs, output\n",
    "\n",
    "The console opens in the terminal (like *matlab -nodesktop*).\n",
    "The *input prompt* is green and has a number.\n",
    "\n",
    "Let's assign a value to variable a, and multiply a by 2:"
   ]
  },
  {
   "cell_type": "code",
   "execution_count": 1,
   "metadata": {
    "collapsed": true,
    "slideshow": {
     "slide_type": "-"
    }
   },
   "outputs": [],
   "source": [
    "a = 0"
   ]
  },
  {
   "cell_type": "code",
   "execution_count": 2,
   "metadata": {
    "slideshow": {
     "slide_type": "-"
    }
   },
   "outputs": [
    {
     "data": {
      "text/plain": [
       "0"
      ]
     },
     "execution_count": 2,
     "metadata": {},
     "output_type": "execute_result"
    }
   ],
   "source": [
    "2*a"
   ]
  },
  {
   "cell_type": "markdown",
   "metadata": {
    "slideshow": {
     "slide_type": "fragment"
    }
   },
   "source": [
    "When relevant, a numbered *output prompt* appears, showing the result.\n",
    "Numbers are used to get back the corresponding input / output, with the *_* syntax:"
   ]
  },
  {
   "cell_type": "code",
   "execution_count": 3,
   "metadata": {
    "slideshow": {
     "slide_type": "-"
    }
   },
   "outputs": [
    {
     "data": {
      "text/plain": [
       "'2*a'"
      ]
     },
     "execution_count": 3,
     "metadata": {},
     "output_type": "execute_result"
    }
   ],
   "source": [
    "_i2"
   ]
  },
  {
   "cell_type": "code",
   "execution_count": 4,
   "metadata": {
    "slideshow": {
     "slide_type": "-"
    }
   },
   "outputs": [
    {
     "data": {
      "text/plain": [
       "0"
      ]
     },
     "execution_count": 4,
     "metadata": {},
     "output_type": "execute_result"
    }
   ],
   "source": [
    "_2"
   ]
  },
  {
   "cell_type": "markdown",
   "metadata": {
    "slideshow": {
     "slide_type": "subslide"
    }
   },
   "source": [
    "## Magic words\n",
    "\n",
    "\n",
    "IPython has a lot of magic words that make everyday coding more efficient:\n",
    "https://ipython.org/ipython-doc/3/interactive/magics.html\n"
   ]
  },
  {
   "cell_type": "code",
   "execution_count": 5,
   "metadata": {
    "slideshow": {
     "slide_type": "-"
    }
   },
   "outputs": [
    {
     "name": "stdout",
     "output_type": "stream",
     "text": [
      "The slowest run took 76.37 times longer than the fastest. This could mean that an intermediate result is being cached.\n",
      "10000000 loops, best of 3: 24.2 ns per loop\n"
     ]
    }
   ],
   "source": [
    "# Timing a one-line operation\n",
    "%timeit 2*3"
   ]
  },
  {
   "cell_type": "code",
   "execution_count": 6,
   "metadata": {
    "slideshow": {
     "slide_type": "fragment"
    }
   },
   "outputs": [
    {
     "name": "stdout",
     "output_type": "stream",
     "text": [
      "Directory history (kept in _dh)\n",
      "0: /home/admlocal/Bureau/FormationPython/python\n"
     ]
    }
   ],
   "source": [
    "# History if visited directories\n",
    "%dhist"
   ]
  },
  {
   "cell_type": "code",
   "execution_count": 7,
   "metadata": {
    "slideshow": {
     "slide_type": "-"
    }
   },
   "outputs": [
    {
     "name": "stdout",
     "output_type": "stream",
     "text": [
      "IPython will make a temporary file named: /tmp/ipython_edit_8n5wreed/ipython_edit_y2p1irq5.py\n"
     ]
    }
   ],
   "source": [
    "# Open a file that you can edit as a python script and executes it\n",
    "%edit"
   ]
  },
  {
   "cell_type": "code",
   "execution_count": 8,
   "metadata": {
    "slideshow": {
     "slide_type": "-"
    }
   },
   "outputs": [
    {
     "data": {
      "application/json": {
       "cell": {
        "!": "OSMagics",
        "HTML": "Other",
        "SVG": "Other",
        "bash": "Other",
        "capture": "ExecutionMagics",
        "debug": "ExecutionMagics",
        "file": "Other",
        "html": "DisplayMagics",
        "javascript": "DisplayMagics",
        "js": "DisplayMagics",
        "latex": "DisplayMagics",
        "perl": "Other",
        "prun": "ExecutionMagics",
        "pypy": "Other",
        "python": "Other",
        "python2": "Other",
        "python3": "Other",
        "ruby": "Other",
        "script": "ScriptMagics",
        "sh": "Other",
        "svg": "DisplayMagics",
        "sx": "OSMagics",
        "system": "OSMagics",
        "time": "ExecutionMagics",
        "timeit": "ExecutionMagics",
        "writefile": "OSMagics"
       },
       "line": {
        "alias": "OSMagics",
        "alias_magic": "BasicMagics",
        "autocall": "AutoMagics",
        "automagic": "AutoMagics",
        "autosave": "KernelMagics",
        "bookmark": "OSMagics",
        "cat": "Other",
        "cd": "OSMagics",
        "clear": "KernelMagics",
        "colors": "BasicMagics",
        "config": "ConfigMagics",
        "connect_info": "KernelMagics",
        "cp": "Other",
        "debug": "ExecutionMagics",
        "dhist": "OSMagics",
        "dirs": "OSMagics",
        "doctest_mode": "BasicMagics",
        "ed": "Other",
        "edit": "KernelMagics",
        "env": "OSMagics",
        "gui": "BasicMagics",
        "hist": "Other",
        "history": "HistoryMagics",
        "killbgscripts": "ScriptMagics",
        "ldir": "Other",
        "less": "KernelMagics",
        "lf": "Other",
        "lk": "Other",
        "ll": "Other",
        "load": "CodeMagics",
        "load_ext": "ExtensionMagics",
        "loadpy": "CodeMagics",
        "logoff": "LoggingMagics",
        "logon": "LoggingMagics",
        "logstart": "LoggingMagics",
        "logstate": "LoggingMagics",
        "logstop": "LoggingMagics",
        "ls": "Other",
        "lsmagic": "BasicMagics",
        "lx": "Other",
        "macro": "ExecutionMagics",
        "magic": "BasicMagics",
        "man": "KernelMagics",
        "matplotlib": "PylabMagics",
        "mkdir": "Other",
        "more": "KernelMagics",
        "mv": "Other",
        "notebook": "BasicMagics",
        "page": "BasicMagics",
        "pastebin": "CodeMagics",
        "pdb": "ExecutionMagics",
        "pdef": "NamespaceMagics",
        "pdoc": "NamespaceMagics",
        "pfile": "NamespaceMagics",
        "pinfo": "NamespaceMagics",
        "pinfo2": "NamespaceMagics",
        "popd": "OSMagics",
        "pprint": "BasicMagics",
        "precision": "BasicMagics",
        "profile": "BasicMagics",
        "prun": "ExecutionMagics",
        "psearch": "NamespaceMagics",
        "psource": "NamespaceMagics",
        "pushd": "OSMagics",
        "pwd": "OSMagics",
        "pycat": "OSMagics",
        "pylab": "PylabMagics",
        "qtconsole": "KernelMagics",
        "quickref": "BasicMagics",
        "recall": "HistoryMagics",
        "rehashx": "OSMagics",
        "reload_ext": "ExtensionMagics",
        "rep": "Other",
        "rerun": "HistoryMagics",
        "reset": "NamespaceMagics",
        "reset_selective": "NamespaceMagics",
        "rm": "Other",
        "rmdir": "Other",
        "run": "ExecutionMagics",
        "save": "CodeMagics",
        "sc": "OSMagics",
        "set_env": "OSMagics",
        "store": "StoreMagics",
        "sx": "OSMagics",
        "system": "OSMagics",
        "tb": "ExecutionMagics",
        "time": "ExecutionMagics",
        "timeit": "ExecutionMagics",
        "unalias": "OSMagics",
        "unload_ext": "ExtensionMagics",
        "who": "NamespaceMagics",
        "who_ls": "NamespaceMagics",
        "whos": "NamespaceMagics",
        "xdel": "NamespaceMagics",
        "xmode": "BasicMagics"
       }
      },
      "text/plain": [
       "Available line magics:\n",
       "%alias  %alias_magic  %autocall  %automagic  %autosave  %bookmark  %cat  %cd  %clear  %colors  %config  %connect_info  %cp  %debug  %dhist  %dirs  %doctest_mode  %ed  %edit  %env  %gui  %hist  %history  %killbgscripts  %ldir  %less  %lf  %lk  %ll  %load  %load_ext  %loadpy  %logoff  %logon  %logstart  %logstate  %logstop  %ls  %lsmagic  %lx  %macro  %magic  %man  %matplotlib  %mkdir  %more  %mv  %notebook  %page  %pastebin  %pdb  %pdef  %pdoc  %pfile  %pinfo  %pinfo2  %popd  %pprint  %precision  %profile  %prun  %psearch  %psource  %pushd  %pwd  %pycat  %pylab  %qtconsole  %quickref  %recall  %rehashx  %reload_ext  %rep  %rerun  %reset  %reset_selective  %rm  %rmdir  %run  %save  %sc  %set_env  %store  %sx  %system  %tb  %time  %timeit  %unalias  %unload_ext  %who  %who_ls  %whos  %xdel  %xmode\n",
       "\n",
       "Available cell magics:\n",
       "%%!  %%HTML  %%SVG  %%bash  %%capture  %%debug  %%file  %%html  %%javascript  %%js  %%latex  %%perl  %%prun  %%pypy  %%python  %%python2  %%python3  %%ruby  %%script  %%sh  %%svg  %%sx  %%system  %%time  %%timeit  %%writefile\n",
       "\n",
       "Automagic is ON, % prefix IS NOT needed for line magics."
      ]
     },
     "execution_count": 8,
     "metadata": {},
     "output_type": "execute_result"
    }
   ],
   "source": [
    "# List currently available magic functions\n",
    "%lsmagic"
   ]
  },
  {
   "cell_type": "markdown",
   "metadata": {
    "slideshow": {
     "slide_type": "subslide"
    }
   },
   "source": [
    "## Shell commands\n",
    "\n",
    "The \"!\" syntax allows you to pass commands to the underlying shell"
   ]
  },
  {
   "cell_type": "code",
   "execution_count": 9,
   "metadata": {
    "slideshow": {
     "slide_type": "-"
    }
   },
   "outputs": [
    {
     "name": "stdout",
     "output_type": "stream",
     "text": [
      "01_Python_Introduction.ipynb\t    img\r\n",
      "01_Python_Introduction.slides.html  JHillairet_Python_Course_For_Fusion\r\n",
      "02_NumPy.ipynb\t\t\t    myfunc.py\r\n",
      "data\t\t\t\t    __pycache__\r\n",
      "figures\t\t\t\t    SciPy.ipynb\r\n",
      "Fit.ipynb\t\t\t    SymPy.ipynb\r\n"
     ]
    }
   ],
   "source": [
    "# list content of current directory\n",
    "!ls"
   ]
  },
  {
   "cell_type": "code",
   "execution_count": 10,
   "metadata": {
    "slideshow": {
     "slide_type": "-"
    }
   },
   "outputs": [
    {
     "name": "stdout",
     "output_type": "stream",
     "text": [
      "/home/admlocal/Bureau/FormationPython/python\r\n"
     ]
    }
   ],
   "source": [
    "# get current working directory\n",
    "!pwd"
   ]
  },
  {
   "cell_type": "markdown",
   "metadata": {
    "slideshow": {
     "slide_type": "fragment"
    }
   },
   "source": [
    "**Exit the ipython console**"
   ]
  },
  {
   "cell_type": "code",
   "execution_count": 11,
   "metadata": {
    "collapsed": true,
    "slideshow": {
     "slide_type": "-"
    }
   },
   "outputs": [],
   "source": [
    "exit()"
   ]
  },
  {
   "cell_type": "markdown",
   "metadata": {
    "slideshow": {
     "slide_type": "subslide"
    }
   },
   "source": [
    "## Inline help\n",
    "\n",
    "If you don't know what a variable is, or what a function does, or which arguments it takes, the ipython console provides several ways to get help or just generic info:"
   ]
  },
  {
   "cell_type": "code",
   "execution_count": 1,
   "metadata": {
    "collapsed": true,
    "slideshow": {
     "slide_type": "-"
    }
   },
   "outputs": [],
   "source": [
    "s = \"this is a string\"\n",
    "a = 0\n",
    "def f(x):\n",
    "    \"\"\" This is my documentation \"\"\"\n",
    "    return 2.*x + 1"
   ]
  },
  {
   "cell_type": "code",
   "execution_count": 52,
   "metadata": {
    "slideshow": {
     "slide_type": "subslide"
    }
   },
   "outputs": [
    {
     "name": "stdout",
     "output_type": "stream",
     "text": [
      "None\n",
      "Help on int object:\n",
      "\n",
      "class int(object)\n",
      " |  int(x=0) -> integer\n",
      " |  int(x, base=10) -> integer\n",
      " |  \n",
      " |  Convert a number or string to an integer, or return 0 if no arguments\n",
      " |  are given.  If x is a number, return x.__int__().  For floating point\n",
      " |  numbers, this truncates towards zero.\n",
      " |  \n",
      " |  If x is not a number or if base is given, then x must be a string,\n",
      " |  bytes, or bytearray instance representing an integer literal in the\n",
      " |  given base.  The literal can be preceded by '+' or '-' and be surrounded\n",
      " |  by whitespace.  The base defaults to 10.  Valid bases are 0 and 2-36.\n",
      " |  Base 0 means to interpret the base from the string as an integer literal.\n",
      " |  >>> int('0b100', base=0)\n",
      " |  4\n",
      " |  \n",
      " |  Methods defined here:\n",
      " |  \n",
      " |  __abs__(self, /)\n",
      " |      abs(self)\n",
      " |  \n",
      " |  __add__(self, value, /)\n",
      " |      Return self+value.\n",
      " |  \n",
      " |  __and__(self, value, /)\n",
      " |      Return self&value.\n",
      " |  \n",
      " |  __bool__(self, /)\n",
      " |      self != 0\n",
      " |  \n",
      " |  __ceil__(...)\n",
      " |      Ceiling of an Integral returns itself.\n",
      " |  \n",
      " |  __divmod__(self, value, /)\n",
      " |      Return divmod(self, value).\n",
      " |  \n",
      " |  __eq__(self, value, /)\n",
      " |      Return self==value.\n",
      " |  \n",
      " |  __float__(self, /)\n",
      " |      float(self)\n",
      " |  \n",
      " |  __floor__(...)\n",
      " |      Flooring an Integral returns itself.\n",
      " |  \n",
      " |  __floordiv__(self, value, /)\n",
      " |      Return self//value.\n",
      " |  \n",
      " |  __format__(...)\n",
      " |      default object formatter\n",
      " |  \n",
      " |  __ge__(self, value, /)\n",
      " |      Return self>=value.\n",
      " |  \n",
      " |  __getattribute__(self, name, /)\n",
      " |      Return getattr(self, name).\n",
      " |  \n",
      " |  __getnewargs__(...)\n",
      " |  \n",
      " |  __gt__(self, value, /)\n",
      " |      Return self>value.\n",
      " |  \n",
      " |  __hash__(self, /)\n",
      " |      Return hash(self).\n",
      " |  \n",
      " |  __index__(self, /)\n",
      " |      Return self converted to an integer, if self is suitable for use as an index into a list.\n",
      " |  \n",
      " |  __int__(self, /)\n",
      " |      int(self)\n",
      " |  \n",
      " |  __invert__(self, /)\n",
      " |      ~self\n",
      " |  \n",
      " |  __le__(self, value, /)\n",
      " |      Return self<=value.\n",
      " |  \n",
      " |  __lshift__(self, value, /)\n",
      " |      Return self<<value.\n",
      " |  \n",
      " |  __lt__(self, value, /)\n",
      " |      Return self<value.\n",
      " |  \n",
      " |  __mod__(self, value, /)\n",
      " |      Return self%value.\n",
      " |  \n",
      " |  __mul__(self, value, /)\n",
      " |      Return self*value.\n",
      " |  \n",
      " |  __ne__(self, value, /)\n",
      " |      Return self!=value.\n",
      " |  \n",
      " |  __neg__(self, /)\n",
      " |      -self\n",
      " |  \n",
      " |  __new__(*args, **kwargs) from builtins.type\n",
      " |      Create and return a new object.  See help(type) for accurate signature.\n",
      " |  \n",
      " |  __or__(self, value, /)\n",
      " |      Return self|value.\n",
      " |  \n",
      " |  __pos__(self, /)\n",
      " |      +self\n",
      " |  \n",
      " |  __pow__(self, value, mod=None, /)\n",
      " |      Return pow(self, value, mod).\n",
      " |  \n",
      " |  __radd__(self, value, /)\n",
      " |      Return value+self.\n",
      " |  \n",
      " |  __rand__(self, value, /)\n",
      " |      Return value&self.\n",
      " |  \n",
      " |  __rdivmod__(self, value, /)\n",
      " |      Return divmod(value, self).\n",
      " |  \n",
      " |  __repr__(self, /)\n",
      " |      Return repr(self).\n",
      " |  \n",
      " |  __rfloordiv__(self, value, /)\n",
      " |      Return value//self.\n",
      " |  \n",
      " |  __rlshift__(self, value, /)\n",
      " |      Return value<<self.\n",
      " |  \n",
      " |  __rmod__(self, value, /)\n",
      " |      Return value%self.\n",
      " |  \n",
      " |  __rmul__(self, value, /)\n",
      " |      Return value*self.\n",
      " |  \n",
      " |  __ror__(self, value, /)\n",
      " |      Return value|self.\n",
      " |  \n",
      " |  __round__(...)\n",
      " |      Rounding an Integral returns itself.\n",
      " |      Rounding with an ndigits argument also returns an integer.\n",
      " |  \n",
      " |  __rpow__(self, value, mod=None, /)\n",
      " |      Return pow(value, self, mod).\n",
      " |  \n",
      " |  __rrshift__(self, value, /)\n",
      " |      Return value>>self.\n",
      " |  \n",
      " |  __rshift__(self, value, /)\n",
      " |      Return self>>value.\n",
      " |  \n",
      " |  __rsub__(self, value, /)\n",
      " |      Return value-self.\n",
      " |  \n",
      " |  __rtruediv__(self, value, /)\n",
      " |      Return value/self.\n",
      " |  \n",
      " |  __rxor__(self, value, /)\n",
      " |      Return value^self.\n",
      " |  \n",
      " |  __sizeof__(...)\n",
      " |      Returns size in memory, in bytes\n",
      " |  \n",
      " |  __str__(self, /)\n",
      " |      Return str(self).\n",
      " |  \n",
      " |  __sub__(self, value, /)\n",
      " |      Return self-value.\n",
      " |  \n",
      " |  __truediv__(self, value, /)\n",
      " |      Return self/value.\n",
      " |  \n",
      " |  __trunc__(...)\n",
      " |      Truncating an Integral returns itself.\n",
      " |  \n",
      " |  __xor__(self, value, /)\n",
      " |      Return self^value.\n",
      " |  \n",
      " |  bit_length(...)\n",
      " |      int.bit_length() -> int\n",
      " |      \n",
      " |      Number of bits necessary to represent self in binary.\n",
      " |      >>> bin(37)\n",
      " |      '0b100101'\n",
      " |      >>> (37).bit_length()\n",
      " |      6\n",
      " |  \n",
      " |  conjugate(...)\n",
      " |      Returns self, the complex conjugate of any int.\n",
      " |  \n",
      " |  from_bytes(...) from builtins.type\n",
      " |      int.from_bytes(bytes, byteorder, *, signed=False) -> int\n",
      " |      \n",
      " |      Return the integer represented by the given array of bytes.\n",
      " |      \n",
      " |      The bytes argument must be a bytes-like object (e.g. bytes or bytearray).\n",
      " |      \n",
      " |      The byteorder argument determines the byte order used to represent the\n",
      " |      integer.  If byteorder is 'big', the most significant byte is at the\n",
      " |      beginning of the byte array.  If byteorder is 'little', the most\n",
      " |      significant byte is at the end of the byte array.  To request the native\n",
      " |      byte order of the host system, use `sys.byteorder' as the byte order value.\n",
      " |      \n",
      " |      The signed keyword-only argument indicates whether two's complement is\n",
      " |      used to represent the integer.\n",
      " |  \n",
      " |  to_bytes(...)\n",
      " |      int.to_bytes(length, byteorder, *, signed=False) -> bytes\n",
      " |      \n",
      " |      Return an array of bytes representing an integer.\n",
      " |      \n",
      " |      The integer is represented using length bytes.  An OverflowError is\n",
      " |      raised if the integer is not representable with the given number of\n",
      " |      bytes.\n",
      " |      \n",
      " |      The byteorder argument determines the byte order used to represent the\n",
      " |      integer.  If byteorder is 'big', the most significant byte is at the\n",
      " |      beginning of the byte array.  If byteorder is 'little', the most\n",
      " |      significant byte is at the end of the byte array.  To request the native\n",
      " |      byte order of the host system, use `sys.byteorder' as the byte order value.\n",
      " |      \n",
      " |      The signed keyword-only argument determines whether two's complement is\n",
      " |      used to represent the integer.  If signed is False and a negative integer\n",
      " |      is given, an OverflowError is raised.\n",
      " |  \n",
      " |  ----------------------------------------------------------------------\n",
      " |  Data descriptors defined here:\n",
      " |  \n",
      " |  denominator\n",
      " |      the denominator of a rational number in lowest terms\n",
      " |  \n",
      " |  imag\n",
      " |      the imaginary part of a complex number\n",
      " |  \n",
      " |  numerator\n",
      " |      the numerator of a rational number in lowest terms\n",
      " |  \n",
      " |  real\n",
      " |      the real part of a complex number\n",
      "\n",
      "No Python documentation found for 'abcdefgh'.\n",
      "Use help() to get the interactive help utility.\n",
      "Use help(str) for help on the str class.\n",
      "\n",
      "Help on function <lambda> in module __main__:\n",
      "\n",
      "<lambda> lambda x\n",
      "    # Multiple assignment to a single variable\n",
      "\n"
     ]
    },
    {
     "data": {
      "text/plain": [
       "['__annotations__',\n",
       " '__call__',\n",
       " '__class__',\n",
       " '__closure__',\n",
       " '__code__',\n",
       " '__defaults__',\n",
       " '__delattr__',\n",
       " '__dict__',\n",
       " '__dir__',\n",
       " '__doc__',\n",
       " '__eq__',\n",
       " '__format__',\n",
       " '__ge__',\n",
       " '__get__',\n",
       " '__getattribute__',\n",
       " '__globals__',\n",
       " '__gt__',\n",
       " '__hash__',\n",
       " '__init__',\n",
       " '__init_subclass__',\n",
       " '__kwdefaults__',\n",
       " '__le__',\n",
       " '__lt__',\n",
       " '__module__',\n",
       " '__name__',\n",
       " '__ne__',\n",
       " '__new__',\n",
       " '__qualname__',\n",
       " '__reduce__',\n",
       " '__reduce_ex__',\n",
       " '__repr__',\n",
       " '__setattr__',\n",
       " '__sizeof__',\n",
       " '__str__',\n",
       " '__subclasshook__']"
      ]
     },
     "execution_count": 52,
     "metadata": {},
     "output_type": "execute_result"
    }
   ],
   "source": [
    "# The type function\n",
    "type(a)\n",
    "type(s)\n",
    "type(f)\n",
    "\n",
    "# The ? syntax\n",
    "a?\n",
    "s?\n",
    "f?\n",
    "\n",
    "# The ?? syntax (get source code)\n",
    "f??\n",
    "\n",
    "# The print(<>.__doc__) command\n",
    "print(f.__doc__)\n",
    "\n",
    "# The help() function\n",
    "help(a)\n",
    "help(s)\n",
    "help(f)\n",
    "\n",
    "# The dir() function gives all attributes\n",
    "dir(a)\n",
    "dir(s)\n",
    "dir(f)"
   ]
  },
  {
   "cell_type": "markdown",
   "metadata": {
    "slideshow": {
     "slide_type": "slide"
    }
   },
   "source": [
    "# Python basics"
   ]
  },
  {
   "cell_type": "markdown",
   "metadata": {
    "slideshow": {
     "slide_type": "subslide"
    }
   },
   "source": [
    "## Assignments\n",
    "\n",
    "Variable names cannot start with a number.\n",
    "\n",
    "And they are traditionally minor-case."
   ]
  },
  {
   "cell_type": "code",
   "execution_count": 39,
   "metadata": {
    "collapsed": true,
    "slideshow": {
     "slide_type": "-"
    }
   },
   "outputs": [],
   "source": [
    "a = 0"
   ]
  },
  {
   "cell_type": "markdown",
   "metadata": {
    "slideshow": {
     "slide_type": "subslide"
    }
   },
   "source": [
    "## Multiple assignments\n",
    "\n",
    "Muliple values can be assigned to multiple variables in a one-liner:"
   ]
  },
  {
   "cell_type": "code",
   "execution_count": 3,
   "metadata": {
    "collapsed": true,
    "slideshow": {
     "slide_type": "-"
    }
   },
   "outputs": [],
   "source": [
    "a, s, f = 0, 'string', lambda x:2*x"
   ]
  },
  {
   "cell_type": "code",
   "execution_count": 4,
   "metadata": {
    "slideshow": {
     "slide_type": "fragment"
    }
   },
   "outputs": [
    {
     "name": "stdout",
     "output_type": "stream",
     "text": [
      "0\n",
      "string\n",
      "<function <lambda> at 0x7fd20c607ea0>\n"
     ]
    }
   ],
   "source": [
    "print(a)\n",
    "print(s)\n",
    "print(f)"
   ]
  },
  {
   "cell_type": "code",
   "execution_count": 5,
   "metadata": {
    "slideshow": {
     "slide_type": "fragment"
    }
   },
   "outputs": [
    {
     "name": "stdout",
     "output_type": "stream",
     "text": [
      "(0, 'string', <function <lambda> at 0x7fd20d03b950>)\n"
     ]
    }
   ],
   "source": [
    "# Multiple assignment to a single variable\n",
    "out = 0, 'string', lambda x:2*x\n",
    "print(out)"
   ]
  },
  {
   "cell_type": "code",
   "execution_count": 6,
   "metadata": {
    "slideshow": {
     "slide_type": "fragment"
    }
   },
   "outputs": [
    {
     "name": "stdout",
     "output_type": "stream",
     "text": [
      "0 string <function <lambda> at 0x7fd20d03b950>\n"
     ]
    }
   ],
   "source": [
    "# The other way around\n",
    "a, s, f = out\n",
    "print(a,s,f)"
   ]
  },
  {
   "cell_type": "markdown",
   "metadata": {
    "slideshow": {
     "slide_type": "subslide"
    }
   },
   "source": [
    "## Operators (from J. Hillairet)\n",
    "\n",
    "\n",
    "The following operators are given for Python 3. Some may vary with older version of Python.\n",
    "\n",
    "\n",
    "| Operation\t | Syntax | Comments \n",
    "|------------|--------|----------|\n",
    "| Addition\t | a + b | Can also concatenation in case of string\t\n",
    "| Subtraction| a - b | |\n",
    "| Multiplication |\ta * b\t\t||\n",
    "| Division | a / b | true division. Always returns a floating point number |\n",
    "| Floor Division | a // b ||\n",
    "| Exponentiation |\ta ** b\t||\n",
    "| Modulo |\ta % b or mod(a, b)  | Remainder of the floor division |"
   ]
  },
  {
   "cell_type": "markdown",
   "metadata": {
    "slideshow": {
     "slide_type": "subslide"
    }
   },
   "source": [
    "## Logical Operators\n",
    "| Operation\t | Syntax |\n",
    "|------------|--------|\n",
    "| Bitwise And |\ta & b or and_(a, b) \t|\n",
    "| Bitwise Exclusive Or |\ta ^ b or xor(a, b) \t|\n",
    "| Bitwise Inversion |\t~ a\tor invert(a) \t|\n",
    "| Negation (Arithmetic) |\t- a\t\t|\n",
    "| Negation (Logical) | \tnot a\t\t|\n",
    "| Left Shift\t|a << b\t|\n",
    "| Right Shift\t|a >> b |"
   ]
  },
  {
   "cell_type": "markdown",
   "metadata": {
    "slideshow": {
     "slide_type": "subslide"
    }
   },
   "source": [
    "| Operation | Syntax |\n",
    "|------------|--------|\n",
    "| Ordering\t| a < b | \t\n",
    "| Ordering\t| a <= b | \t\n",
    "| Equality\t| a == b | \t\n",
    "| Difference| \ta != b | \t\n",
    "| Ordering\t| a >= b | \t\n",
    "| Ordering\t| a > b | \t\n",
    "| Identity |\ta is b\t\t|\n",
    "| Identity |\ta is not b\t\t|\n",
    "\n",
    "__NB__: `is` is generally not the same than `==`. \n",
    "The equality operator (`==`) tests if two values are equivalent. The identity operator (`is`) tests if two variable names are references to the same underlying value in memory.  "
   ]
  },
  {
   "cell_type": "markdown",
   "metadata": {
    "slideshow": {
     "slide_type": "subslide"
    }
   },
   "source": [
    "# Some built-in types: int, float, list, tuple, dict\n",
    "\n",
    "* **Numbers** (conversions are automatic)\n",
    "    * int (no size limit)\n",
    "    * float (~15 numbers)\n",
    "    * complex (j)\n",
    "    \n",
    "    \n",
    "* **Character strings** (iterable, immutable):\n",
    "    * ''\n",
    "    * \"\"\n",
    "    * \"\"\" \"\"\"\n",
    "\n",
    "\n",
    "* **Iterables** (heterogeneous)\n",
    "    * list  (mutable)\n",
    "    * tuple (non-mutable)\n",
    "\n",
    "\n",
    "* **Dictionaries**  (dict, key-value pairs)\n",
    "\n",
    "\n",
    "* **functions**\n",
    "* **classes**: methods, attributes..."
   ]
  },
  {
   "cell_type": "markdown",
   "metadata": {
    "slideshow": {
     "slide_type": "subslide"
    }
   },
   "source": [
    "## Numbers"
   ]
  },
  {
   "cell_type": "code",
   "execution_count": 2,
   "metadata": {
    "collapsed": true,
    "slideshow": {
     "slide_type": "-"
    }
   },
   "outputs": [],
   "source": [
    "# int\n",
    "ai = 10\n",
    "# float\n",
    "af = 4.\n",
    "# complex\n",
    "ac = 1. + 2.j"
   ]
  },
  {
   "cell_type": "code",
   "execution_count": 3,
   "metadata": {
    "slideshow": {
     "slide_type": "-"
    }
   },
   "outputs": [
    {
     "name": "stdout",
     "output_type": "stream",
     "text": [
      "2\n",
      "2.5\n",
      "14.0\n",
      "(5+2j)\n"
     ]
    }
   ],
   "source": [
    "# Integer division\n",
    "print(ai//int(af))\n",
    "# Automatic conversion\n",
    "print(ai/af)\n",
    "print(ai+af)\n",
    "print(ac+af)"
   ]
  },
  {
   "cell_type": "markdown",
   "metadata": {
    "slideshow": {
     "slide_type": "subslide"
    }
   },
   "source": [
    "## Strings\n",
    "\n",
    "'' and \"\" are interchangeable.\n",
    "The two format exist so you can embbed one in another"
   ]
  },
  {
   "cell_type": "code",
   "execution_count": 9,
   "metadata": {
    "collapsed": true,
    "slideshow": {
     "slide_type": "-"
    }
   },
   "outputs": [],
   "source": [
    "s0 = \"Python doesn't mix up the two types\"\n",
    "s1 = 'Python doesn\"t mix up the two types'"
   ]
  },
  {
   "cell_type": "markdown",
   "metadata": {
    "slideshow": {
     "slide_type": "fragment"
    }
   },
   "source": [
    "Python is object-oriented, all of these (numbers, strings...) are python objects.\n",
    "\n",
    "They have attributes and built-in methods that can be accessed via the dot '.' syntax"
   ]
  },
  {
   "cell_type": "code",
   "execution_count": 10,
   "metadata": {
    "slideshow": {
     "slide_type": "-"
    }
   },
   "outputs": [
    {
     "name": "stdout",
     "output_type": "stream",
     "text": [
      "Python doesn't mix up the three types\n",
      "Python doesn't mix up the three typesPython doesn\"t mix up the two types\n"
     ]
    }
   ],
   "source": [
    "s0 = s0.replace('two','three')\n",
    "print(s0)\n",
    "print(s0+s1)"
   ]
  },
  {
   "cell_type": "code",
   "execution_count": 11,
   "metadata": {
    "slideshow": {
     "slide_type": "subslide"
    }
   },
   "outputs": [
    {
     "name": "stdout",
     "output_type": "stream",
     "text": [
      "This is a string\n",
      "But it allows for more formatting\n",
      "\n",
      "This syntax is particularly useful for documenting functions\n",
      "\n"
     ]
    }
   ],
   "source": [
    "# Well-formatted multiline strings\n",
    "s0 = \"\"\"This is a string\n",
    "But it allows for more formatting\n",
    "\n",
    "This syntax is particularly useful for documenting functions\n",
    "\"\"\"\n",
    "print(s0)"
   ]
  },
  {
   "cell_type": "markdown",
   "metadata": {
    "slideshow": {
     "slide_type": "subslide"
    }
   },
   "source": [
    "## Play with char strings\n",
    "\n",
    "Strings are a very useful / flexible object in Python.\n",
    "They come in with a lot of built-in methods to facilitate manipulation"
   ]
  },
  {
   "cell_type": "code",
   "execution_count": 12,
   "metadata": {
    "slideshow": {
     "slide_type": "-"
    }
   },
   "outputs": [
    {
     "name": "stdout",
     "output_type": "stream",
     "text": [
      "PYTHON_IRFM_01\n",
      "['Python', 'Irfm', '01']\n"
     ]
    }
   ],
   "source": [
    "# Create a string\n",
    "s0 = 'Python_Irfm_01'\n",
    "\n",
    "# Make all upper case\n",
    "print(s0.upper())\n",
    "\n",
    "# Parse / split\n",
    "l0 = s0.split('_')\n",
    "print(l0)"
   ]
  },
  {
   "cell_type": "markdown",
   "metadata": {
    "slideshow": {
     "slide_type": "subslide"
    }
   },
   "source": [
    "**Exercice :** \n",
    "1. atomatically find the index of the first underscore '\\_' in s0\n",
    "2. find a quick way to replace underscores ('\\_') with spaces in s0"
   ]
  },
  {
   "cell_type": "code",
   "execution_count": 13,
   "metadata": {
    "slideshow": {
     "slide_type": "fragment"
    }
   },
   "outputs": [
    {
     "name": "stdout",
     "output_type": "stream",
     "text": [
      "6\n",
      "Python Irfm 01\n"
     ]
    }
   ],
   "source": [
    "# Find index\n",
    "print(s0.index('_'))\n",
    "\n",
    "# Replace\n",
    "s1 = s0.replace('_',' ')\n",
    "print(s1)"
   ]
  },
  {
   "cell_type": "markdown",
   "metadata": {
    "slideshow": {
     "slide_type": "subslide"
    }
   },
   "source": [
    "### Automatic insertion / formatting in strings\n",
    "\n",
    "* The % syntax allows to automaticaly insert a str contained in a variable in another str\n",
    "* The 'format' syntax allows to automatically insert and format numbers in str"
   ]
  },
  {
   "cell_type": "code",
   "execution_count": 14,
   "metadata": {
    "slideshow": {
     "slide_type": "fragment"
    }
   },
   "outputs": [
    {
     "name": "stdout",
     "output_type": "stream",
     "text": [
      "I want toys and a job for christmas !\n"
     ]
    }
   ],
   "source": [
    "# Str insertion\n",
    "s0, s1 = 'toys', 'a job'\n",
    "s3 = \"I want %s and %s for christmas !\"%(s0,s1)\n",
    "print(s3)"
   ]
  },
  {
   "cell_type": "code",
   "execution_count": 15,
   "metadata": {
    "slideshow": {
     "slide_type": "fragment"
    }
   },
   "outputs": [
    {
     "name": "stdout",
     "output_type": "stream",
     "text": [
      "I have 256898 friends on Facebook, but 03 came to my birthday, they are my favorite 3 friends\n"
     ]
    }
   ],
   "source": [
    "# Number inserting and formatting (syntax : {n:f}, with n the number, f the optional format)\n",
    "n0, n1 = 256898, 3\n",
    "s4 = \"I have {0} friends on Facebook, but {1:02.0f} came to my birthday, they are my favorite {1} friends\".format(n0,n1)\n",
    "print(s4)"
   ]
  },
  {
   "cell_type": "markdown",
   "metadata": {
    "slideshow": {
     "slide_type": "-"
    }
   },
   "source": [
    "Don't hesitate to explore all methods, the one you need is probably already there..."
   ]
  },
  {
   "cell_type": "markdown",
   "metadata": {
    "slideshow": {
     "slide_type": "subslide"
    }
   },
   "source": [
    "## Iterables\n",
    "\n",
    "Iterables are Python objects that have the '\\__iter\\__' attribute, which means they contain several things and you can iterate on them (strings are iterable)."
   ]
  },
  {
   "cell_type": "code",
   "execution_count": 16,
   "metadata": {
    "slideshow": {
     "slide_type": "-"
    }
   },
   "outputs": [
    {
     "name": "stdout",
     "output_type": "stream",
     "text": [
      "True\n",
      "p y a\n"
     ]
    }
   ],
   "source": [
    "s0 = 'python_irfm_blablabla'\n",
    "print(hasattr(s0,'__iter__'))\n",
    "\n",
    "# Get individual elements\n",
    "print(s0[0], s0[1], s0[-1])"
   ]
  },
  {
   "cell_type": "markdown",
   "metadata": {
    "slideshow": {
     "slide_type": "subslide"
    }
   },
   "source": [
    "## Indexing\n",
    "\n",
    "* Python is zero-indexed ! [Why Python uses 0-based indexing](http://python-history.blogspot.fr/2013/10/why-python-uses-0-based-indexing.html)\n",
    "* Indexing  / slicing uses a lot the colon (:) syntax to span an index interval"
   ]
  },
  {
   "cell_type": "code",
   "execution_count": 44,
   "metadata": {
    "slideshow": {
     "slide_type": "-"
    }
   },
   "outputs": [
    {
     "name": "stdout",
     "output_type": "stream",
     "text": [
      "abc\n"
     ]
    }
   ],
   "source": [
    "s = 'abcdefgh'\n",
    "print(s[:3])"
   ]
  },
  {
   "cell_type": "code",
   "execution_count": 45,
   "metadata": {
    "slideshow": {
     "slide_type": "fragment"
    }
   },
   "outputs": [
    {
     "name": "stdout",
     "output_type": "stream",
     "text": [
      "defgh\n"
     ]
    }
   ],
   "source": [
    "print(s[3:])"
   ]
  },
  {
   "cell_type": "code",
   "execution_count": 47,
   "metadata": {
    "slideshow": {
     "slide_type": "fragment"
    }
   },
   "outputs": [
    {
     "name": "stdout",
     "output_type": "stream",
     "text": [
      "cd\n"
     ]
    }
   ],
   "source": [
    "print(s[2:4])"
   ]
  },
  {
   "cell_type": "code",
   "execution_count": 48,
   "metadata": {
    "slideshow": {
     "slide_type": "fragment"
    }
   },
   "outputs": [
    {
     "name": "stdout",
     "output_type": "stream",
     "text": [
      "aceg\n"
     ]
    }
   ],
   "source": [
    "print(s[::2])"
   ]
  },
  {
   "cell_type": "code",
   "execution_count": null,
   "metadata": {
    "collapsed": true
   },
   "outputs": [],
   "source": []
  },
  {
   "cell_type": "markdown",
   "metadata": {
    "slideshow": {
     "slide_type": "subslide"
    }
   },
   "source": [
    "Negative indices go backward, i.e.:\n",
    "* -1 is the last element\n",
    "* -2 is the second to last\n",
    "* ...\n",
    "\n",
    "In the **a:b:s** syntax:\n",
    "* **a** is the index marking the beginning of the interval (included)\n",
    "* **b** is the index marking the end of the interval (excluded)\n",
    "* **s** is the step\n",
    "\n",
    "If any of these is omitted, they tale default values (resp. 0, -1 and 1)"
   ]
  },
  {
   "cell_type": "raw",
   "metadata": {
    "slideshow": {
     "slide_type": "subslide"
    }
   },
   "source": [
    "## Python is zero-indexed (cf. J. Hillairet)\n",
    "In short: The difference between stop and start indices will always be the length of the subsequence.\n",
    "\n",
    "The long-story from the Python creator: [Why Python uses 0-based indexing](http://python-history.blogspot.fr/2013/10/why-python-uses-0-based-indexing.html)"
   ]
  },
  {
   "cell_type": "code",
   "execution_count": 50,
   "metadata": {
    "slideshow": {
     "slide_type": "fragment"
    }
   },
   "outputs": [
    {
     "name": "stdout",
     "output_type": "stream",
     "text": [
      "hgfedcba\n"
     ]
    }
   ],
   "source": [
    "# So reversing a string is easy\n",
    "print(s[::-1])"
   ]
  },
  {
   "cell_type": "code",
   "execution_count": 51,
   "metadata": {
    "slideshow": {
     "slide_type": "fragment"
    }
   },
   "outputs": [
    {
     "name": "stdout",
     "output_type": "stream",
     "text": [
      "abcdefghabcdefgh\n",
      "abcdefghabcdefghabcdefgh\n"
     ]
    }
   ],
   "source": [
    "# Other str operations\n",
    "print(s+s)\n",
    "print(3*s)"
   ]
  },
  {
   "cell_type": "markdown",
   "metadata": {
    "slideshow": {
     "slide_type": "subslide"
    }
   },
   "source": [
    "### Iterables\n",
    "\n",
    "Some are **mutable** (i.e.: you can change their content after they have been defined), some **immutable**.\n",
    "\n",
    "type | mutable | syntax | heterogenous | comment\n",
    "---:|-------:|-----:|-----:|:-----\n",
    "**str** | no   | '' or \"\" | no | \n",
    "**lists** | yes | [] | yes | very flexible\n",
    "**tuple** | no | () | yes| default multiple assignments\n",
    "**dict** | yes | {} | yes | powerful\n",
    "\n",
    "\n",
    "**list** is the most flexible type of iterable.\n",
    "\n",
    "The fact they can contain  heterogeneous objects makes Python iterables very practical, but they can also be slow for large sets, compared to more performance-driven tools like **numpy** arrays, that can quickly handle large sets (matrices) of uniform data."
   ]
  },
  {
   "cell_type": "code",
   "execution_count": 17,
   "metadata": {
    "slideshow": {
     "slide_type": "subslide"
    }
   },
   "outputs": [
    {
     "name": "stdout",
     "output_type": "stream",
     "text": [
      "[0, 'a', ['4', None], (3, 'r')]\n"
     ]
    }
   ],
   "source": [
    "# list definition\n",
    "la = [0, 'a', ['4',None], (3,'r')]\n",
    "print(la)"
   ]
  },
  {
   "cell_type": "code",
   "execution_count": 18,
   "metadata": {
    "slideshow": {
     "slide_type": "fragment"
    }
   },
   "outputs": [
    {
     "name": "stdout",
     "output_type": "stream",
     "text": [
      "[5, 'a', ['1'], (3, 'r')]\n"
     ]
    }
   ],
   "source": [
    "# Mutability\n",
    "la[0] = 5\n",
    "la[2] = ['1']\n",
    "print(la)"
   ]
  },
  {
   "cell_type": "code",
   "execution_count": 19,
   "metadata": {
    "slideshow": {
     "slide_type": "fragment"
    }
   },
   "outputs": [
    {
     "name": "stdout",
     "output_type": "stream",
     "text": [
      "[3, '4', [], 'new']\n",
      "[3, '4', [], 'new', 'n', 'e', 'w', '2']\n",
      "[3, '4', [], 'new', 'n', 'e', 'w', '2', 'new3']\n"
     ]
    }
   ],
   "source": [
    "la = [3,'4',[]]\n",
    "# Appending\n",
    "la.append('new')\n",
    "print(la)\n",
    "la += 'new2'\n",
    "print(la)\n",
    "la += ['new3']\n",
    "print(la)"
   ]
  },
  {
   "cell_type": "markdown",
   "metadata": {
    "slideshow": {
     "slide_type": "subslide"
    }
   },
   "source": [
    "### List comprehension\n",
    "\n",
    "List comprehension is a syntax that allows to define a complex list in one line with a function/operation applied to each member"
   ]
  },
  {
   "cell_type": "code",
   "execution_count": 20,
   "metadata": {
    "slideshow": {
     "slide_type": "-"
    }
   },
   "outputs": [
    {
     "name": "stdout",
     "output_type": "stream",
     "text": [
      "['she loves me not at all', 'she loves me a bit', 'she loves me a lot']\n"
     ]
    }
   ],
   "source": [
    "# List comprehension\n",
    "l0 = ['not at all', 'a bit', 'a lot']\n",
    "la = [\"she loves me %s\"%ll for ll in l0]\n",
    "print(la)"
   ]
  },
  {
   "cell_type": "markdown",
   "metadata": {
    "slideshow": {
     "slide_type": "subslide"
    }
   },
   "source": [
    "## Exercice\n",
    "\n",
    "1. Using list comprehension and str formatting, make the following list ['01 shot', '02 shot', '03 shot', '05 shot']\n",
    "\n",
    "2. Insert '04 shot' where it belongs\n",
    "\n",
    "3. Hard/new : Concatenate all elements into one single str with all elements separated by '\\n'"
   ]
  },
  {
   "cell_type": "code",
   "execution_count": 21,
   "metadata": {
    "slideshow": {
     "slide_type": "fragment"
    }
   },
   "outputs": [
    {
     "name": "stdout",
     "output_type": "stream",
     "text": [
      "['01 shot', '02 shot', '03 shot', '05 shot']\n",
      "['01 shot', '02 shot', '03 shot', '04 shot', '05 shot']\n",
      "01 shot\n",
      "02 shot\n",
      "03 shot\n",
      "04 shot\n",
      "05 shot\n"
     ]
    }
   ],
   "source": [
    "# Create list\n",
    "l = ['{0:02.0f} shot'.format(ii) for ii in [1,2,3,5]]\n",
    "print(l)\n",
    "\n",
    "# Insert\n",
    "l.insert(3,'04 shot')\n",
    "print(l)\n",
    "\n",
    "# Concatenate into one str\n",
    "s = '\\n'\n",
    "s = s.join(l)\n",
    "print(s)"
   ]
  },
  {
   "cell_type": "markdown",
   "metadata": {
    "slideshow": {
     "slide_type": "subslide"
    }
   },
   "source": [
    "## Dictionaries\n",
    "\n",
    "\n",
    "Dictionaries (**dict**) are very useful / powerful python objects.\n",
    "\n",
    "They are key-value pairs, mutable and heterogeneous."
   ]
  },
  {
   "cell_type": "code",
   "execution_count": 22,
   "metadata": {
    "slideshow": {
     "slide_type": "-"
    }
   },
   "outputs": [
    {
     "name": "stdout",
     "output_type": "stream",
     "text": [
      "{'a': 0, 'b': '1', 'c': [2, '3']}\n",
      "{'a': 0, 'b': '1', 'c': [2, '3']}\n"
     ]
    }
   ],
   "source": [
    "# Dictionary definitions\n",
    "d0 = dict(a=0, b='1', c=[2,'3'])\n",
    "print(d0)\n",
    "d1 = {'a':0, 'b':'1', 'c':[2,'3']}\n",
    "print(d1)"
   ]
  },
  {
   "cell_type": "code",
   "execution_count": 23,
   "metadata": {
    "slideshow": {
     "slide_type": "fragment"
    }
   },
   "outputs": [
    {
     "name": "stdout",
     "output_type": "stream",
     "text": [
      "{'a': 0, 'b': '1', 'c': [2, '3'], 4: 'j', '4': 'h', (1, 'a'): 5}\n",
      "0\n",
      "j h\n",
      "5\n"
     ]
    }
   ],
   "source": [
    "# Small difference : numbers\n",
    "d2 = {'a':0, 'b':'1', 'c':[2,'3'], 4:'j', '4':'h', (1,'a'):5}\n",
    "print(d2)\n",
    "print(d2['a'])\n",
    "print(d2[4], d2['4'])\n",
    "print(d2[(1,'a')])"
   ]
  },
  {
   "cell_type": "markdown",
   "metadata": {
    "slideshow": {
     "slide_type": "subslide"
    }
   },
   "source": [
    "## dict methods\n",
    "\n",
    "Like all python objects, **dict** have many built-in methods for common operations"
   ]
  },
  {
   "cell_type": "code",
   "execution_count": 24,
   "metadata": {
    "slideshow": {
     "slide_type": "-"
    }
   },
   "outputs": [
    {
     "name": "stdout",
     "output_type": "stream",
     "text": [
      "{'A': 0, 2: 5, '3': []}\n"
     ]
    }
   ],
   "source": [
    "d = {'A':0, 2:5, '3':[]}\n",
    "print(d)"
   ]
  },
  {
   "cell_type": "code",
   "execution_count": 25,
   "metadata": {
    "slideshow": {
     "slide_type": "fragment"
    }
   },
   "outputs": [
    {
     "name": "stdout",
     "output_type": "stream",
     "text": [
      "{'A': 0, 2: 5, '3': [], 'G': 7}\n"
     ]
    }
   ],
   "source": [
    "# Add a new item\n",
    "d.update({'G':7})\n",
    "print(d)"
   ]
  },
  {
   "cell_type": "code",
   "execution_count": 26,
   "metadata": {
    "slideshow": {
     "slide_type": "fragment"
    }
   },
   "outputs": [
    {
     "name": "stdout",
     "output_type": "stream",
     "text": [
      "{'A': 10, 2: 5, '3': [], 'G': 7}\n"
     ]
    }
   ],
   "source": [
    "# Mutate (change a value)\n",
    "d['A'] = 10\n",
    "print(d)"
   ]
  },
  {
   "cell_type": "code",
   "execution_count": 27,
   "metadata": {
    "slideshow": {
     "slide_type": "fragment"
    }
   },
   "outputs": [
    {
     "name": "stdout",
     "output_type": "stream",
     "text": [
      "{'A': 10, '3': [], 'G': 7}\n"
     ]
    }
   ],
   "source": [
    "# Get rid of an item\n",
    "d.pop(2)\n",
    "print(d)"
   ]
  },
  {
   "cell_type": "code",
   "execution_count": 28,
   "metadata": {
    "slideshow": {
     "slide_type": "fragment"
    }
   },
   "outputs": [
    {
     "name": "stdout",
     "output_type": "stream",
     "text": [
      "dict_keys(['A', '3', 'G'])\n",
      "dict_values([10, [], 7])\n"
     ]
    }
   ],
   "source": [
    "# List keys and values\n",
    "print(d.keys())\n",
    "print(d.values())"
   ]
  },
  {
   "cell_type": "markdown",
   "metadata": {
    "slideshow": {
     "slide_type": "subslide"
    }
   },
   "source": [
    "## Exercices\n",
    "\n",
    "1. Create a **dict** containing shot numbers (**int**) as keys, and **dict** as values, themselves containing 'Ip' and 'Bt' as keys (and values that you what)\n",
    "2. list all the shot numbers contained in your dict\n",
    "3. add a new one"
   ]
  },
  {
   "cell_type": "code",
   "execution_count": 29,
   "metadata": {
    "slideshow": {
     "slide_type": "fragment"
    }
   },
   "outputs": [
    {
     "name": "stdout",
     "output_type": "stream",
     "text": [
      "dict_keys([52600, 52601])\n",
      "{52600: {'Ip': 700, 'Bt': 2.5}, 52601: {'Ip': 700, 'Bt': 2.4}, 52602: {'Ip': 700, 'Bt': 2.6}}\n"
     ]
    }
   ],
   "source": [
    "d = {52600:{'Ip':700,'Bt':2.5}, 52601:{'Ip':700,'Bt':2.4}}\n",
    "print(d.keys())\n",
    "d.update({52602:{'Ip':700,'Bt':2.6}})\n",
    "print(d)"
   ]
  },
  {
   "cell_type": "markdown",
   "metadata": {
    "slideshow": {
     "slide_type": "subslide"
    }
   },
   "source": [
    "# For, if, while...\n",
    "\n",
    "Python provides a syntax for loops and testing.\n",
    "\n",
    "In python, all is based on indentation, and colon (:) \n",
    "\n",
    "The built-in function range provide an iterator on **int** (for indices)."
   ]
  },
  {
   "cell_type": "code",
   "execution_count": 30,
   "metadata": {
    "slideshow": {
     "slide_type": "fragment"
    }
   },
   "outputs": [
    {
     "name": "stdout",
     "output_type": "stream",
     "text": [
      "[0]\n",
      "[0, 1]\n",
      "[0, 1, 2]\n",
      "[0, 1, 2, 3]\n",
      "[0, 1, 2, 3, 4]\n",
      "[0, 1, 2, 3, 4, 5]\n",
      "[0, 1, 2, 3, 4, 5, 6]\n",
      "[0, 1, 2, 3, 4, 5, 6, 7]\n",
      "[0, 1, 2, 3, 4, 5, 6, 7, 8]\n",
      "[0, 1, 2, 3, 4, 5, 6, 7, 8, 9]\n",
      "0\n",
      "1\n",
      "2\n",
      "3\n",
      "4\n",
      "5\n",
      "6\n",
      "7\n",
      "8\n",
      "9\n"
     ]
    }
   ],
   "source": [
    "# for loop\n",
    "l = []\n",
    "for ii in range(0,10):\n",
    "    l.append(ii)\n",
    "    print(l)\n",
    "    \n",
    "# while\n",
    "ii = 0\n",
    "while ii<10:\n",
    "    print(ii)\n",
    "    ii += 1"
   ]
  },
  {
   "cell_type": "code",
   "execution_count": 31,
   "metadata": {
    "slideshow": {
     "slide_type": "subslide"
    }
   },
   "outputs": [
    {
     "name": "stdout",
     "output_type": "stream",
     "text": [
      "2\n"
     ]
    }
   ],
   "source": [
    "# Testing\n",
    "A = 4\n",
    "if A<2:\n",
    "    b = 0\n",
    "elif A>5:\n",
    "    b = 1\n",
    "else:\n",
    "    b = 2\n",
    "print(b)"
   ]
  },
  {
   "cell_type": "markdown",
   "metadata": {
    "slideshow": {
     "slide_type": "subslide"
    }
   },
   "source": [
    "## Trying, managing exceptions\n",
    "\n",
    "When you want to try something but you are not sure it will work.\n",
    "\n",
    "If it doesn't work (i.e.: raises an error, called **Exception** in python), you don't want it to stop the routine => use **try**"
   ]
  },
  {
   "cell_type": "code",
   "execution_count": 32,
   "metadata": {
    "slideshow": {
     "slide_type": "fragment"
    }
   },
   "outputs": [
    {
     "name": "stdout",
     "output_type": "stream",
     "text": [
      "Sorry, divide by 0 => return 0 by default\n",
      "0\n"
     ]
    }
   ],
   "source": [
    "# This work if n is not zero, but n is zero, the Exception is properly handled\n",
    "n = 0\n",
    "try:\n",
    "    n = 1/n\n",
    "except:\n",
    "    print(\"Sorry, divide by 0 => return 0 by default\")\n",
    "print(n)"
   ]
  },
  {
   "cell_type": "markdown",
   "metadata": {
    "slideshow": {
     "slide_type": "-"
    }
   },
   "source": [
    "It is a good practice to always warn the user when an Exception is handled !"
   ]
  },
  {
   "cell_type": "markdown",
   "metadata": {
    "slideshow": {
     "slide_type": "slide"
    }
   },
   "source": [
    "# Libraries"
   ]
  },
  {
   "cell_type": "markdown",
   "metadata": {
    "slideshow": {
     "slide_type": "subslide"
    }
   },
   "source": [
    "## Importing libraries\n",
    "\n",
    "The strength of Python resides not only in its built-in capabilities, but also very much on the rich zoology of libraries that a large community of users has developped over the years.\n",
    "\n",
    "As already mentionned, there are specialized libraries for more or less everything.\n",
    "\n",
    "You should then know how to use them."
   ]
  },
  {
   "cell_type": "markdown",
   "metadata": {
    "slideshow": {
     "slide_type": "fragment"
    }
   },
   "source": [
    "It is done thanks to the **import** statement, which *loads* a library to make its content usable in your console / script.\n",
    "\n",
    "The name of the library serves as a namespace (i.e.: it gives access to other functions / objects / attributes using the dot '.' syntax), and the **import** statement allows you to locally rename it."
   ]
  },
  {
   "cell_type": "markdown",
   "metadata": {
    "slideshow": {
     "slide_type": "subslide"
    }
   },
   "source": [
    "### Importing the most common libraries\n",
    "\n",
    "**Pro tip**: put the lines below in your *.ipython* to make sure they are run automatically everytime your open an ipython console, so you don't need to retype them every time.\n",
    "\n",
    "How to create an ipython configurable profile: https://ipython.org/ipython-doc/3/config/intro.html"
   ]
  },
  {
   "cell_type": "code",
   "execution_count": 33,
   "metadata": {
    "collapsed": true,
    "slideshow": {
     "slide_type": "-"
    }
   },
   "outputs": [],
   "source": [
    "# Import numpy and locally rename it as np\n",
    "import numpy as np\n",
    "import scipy as scp\n",
    "import matplotlib as mpl\n",
    "import matplotlib.pyplot as plt"
   ]
  },
  {
   "cell_type": "markdown",
   "metadata": {
    "slideshow": {
     "slide_type": "subslide"
    }
   },
   "source": [
    "### Use the functions / objects / methods inside a library\n",
    "\n",
    "The dot '.' syntax gives you access to the content of the library"
   ]
  },
  {
   "cell_type": "code",
   "execution_count": 34,
   "metadata": {
    "slideshow": {
     "slide_type": "subslide"
    }
   },
   "outputs": [
    {
     "name": "stdout",
     "output_type": "stream",
     "text": [
      "0.283662185463\n"
     ]
    }
   ],
   "source": [
    "a = np.cos(5)\n",
    "print(a)"
   ]
  },
  {
   "cell_type": "markdown",
   "metadata": {
    "collapsed": true,
    "slideshow": {
     "slide_type": "-"
    }
   },
   "source": [
    "See other courses for details on **numpy**, **scipy**, **matplotlib**"
   ]
  },
  {
   "cell_type": "markdown",
   "metadata": {
    "slideshow": {
     "slide_type": "subslide"
    }
   },
   "source": [
    "# The way to your own library"
   ]
  },
  {
   "cell_type": "markdown",
   "metadata": {
    "slideshow": {
     "slide_type": "subslide"
    }
   },
   "source": [
    "## Creating functions / modules / packages\n",
    "\n",
    "* Create a file myfunc.py in your current repository\n",
    "* Open it with your favorite editor (vi, vim, emacs, kate...)\n",
    "* Define 2 functions as below, save and exit"
   ]
  },
  {
   "cell_type": "code",
   "execution_count": 38,
   "metadata": {
    "collapsed": true,
    "slideshow": {
     "slide_type": "subslide"
    }
   },
   "outputs": [],
   "source": [
    "#%%writefile myfunc.py\n",
    "# Create a DOCUMENTED function with an explicit name and variables\n",
    "def Ingredients4Pancakes(pan):\n",
    "    # The \"\"\"  \"\"\" syntax encloses the function documentation\n",
    "    # It is automatically returnes by the ? syntax in the console\n",
    "    \"\"\" Return the ingredients to make pan pancakes \n",
    "    \n",
    "    When fed a number of pancakes (pan), return the ingredients necessary\n",
    "    The output can be a tuple of all variables or a dict\n",
    "    \n",
    "    Parameters\n",
    "    ----------\n",
    "    pan :   float\n",
    "        The number of pancakes to be made\n",
    "        \n",
    "    Return\n",
    "    ------\n",
    "    eggs : int\n",
    "        The number of eggs required\n",
    "    \"\"\"\n",
    "    # Use explicit variable names whenever possible\n",
    "    eggs = pan/2+1\n",
    "    return eggs\n",
    "\n",
    "def f2():\n",
    "    print(\"Fast-and-dirty coding\")\n",
    "    "
   ]
  },
  {
   "cell_type": "markdown",
   "metadata": {
    "slideshow": {
     "slide_type": "subslide"
    }
   },
   "source": [
    "\n",
    "## Modules\n",
    "\n",
    "A module is basically a **.py** file with functions / classes inside.\n",
    "\n",
    "If it is in your current path, you can import it as any other module and access the functions inside using a dot (\".\") syntax."
   ]
  },
  {
   "cell_type": "code",
   "execution_count": 36,
   "metadata": {
    "slideshow": {
     "slide_type": "-"
    }
   },
   "outputs": [
    {
     "name": "stdout",
     "output_type": "stream",
     "text": [
      "Fast-and-dirty coding\n"
     ]
    }
   ],
   "source": [
    "import myfunc as mf\n",
    "\n",
    "# See the documentation\n",
    "mf.Ingredients4Pancakes?\n",
    "mf.f2?\n",
    "\n",
    "# Use\n",
    "ing = mf.Ingredients4Pancakes(4)\n",
    "mf.f2()"
   ]
  },
  {
   "cell_type": "markdown",
   "metadata": {
    "slideshow": {
     "slide_type": "fragment"
    }
   },
   "source": [
    "Congratulations !!!\n",
    "\n",
    "You have just created your first working python module !"
   ]
  },
  {
   "cell_type": "markdown",
   "metadata": {
    "slideshow": {
     "slide_type": "subslide"
    }
   },
   "source": [
    "## Packages\n",
    "\n",
    "Packages are basically directories continaing several modules (and possibly sub-packages).\n",
    "\n",
    "The idea is the same, but to make sure Python identifies a directory as a Python package you simply need to add a file named **\\__init\\__.py** in every directory that you want to use as a package or sub-package.\n",
    "\n",
    "The presence of this file will tell python that the content of the directory can be imported using **import**.\n",
    "\n",
    "More info on how to build your package properly (important for later deployment): https://packaging.python.org/"
   ]
  },
  {
   "cell_type": "markdown",
   "metadata": {
    "slideshow": {
     "slide_type": "slide"
    }
   },
   "source": [
    "# Classes\n",
    "\n",
    "The truly Pythonic way..."
   ]
  },
  {
   "cell_type": "markdown",
   "metadata": {
    "slideshow": {
     "slide_type": "subslide"
    }
   },
   "source": [
    "## Classes\n",
    "\n",
    "Everything in Python is onject-oriented (even numbers!).\n",
    "\n",
    "Python is best used this way, and learning to make classes may require some investment first but is unavoidable if you want to distribute a good-quality library to users.\n",
    "\n",
    "There is a mechanism, called **inheritance** that considerably facilitates this task: it allows your classes to inherit the attributes / methods of another class.\n",
    "\n",
    "Thus, it is a good habit to alway inherit from the basic Python object.\n",
    "\n",
    "A function built inside a class is called a **method**.\n",
    "\n",
    "**methods** beginning with an underscore **\\_** are *hidden* (i.e.: useful internally, but not to be used by an end-user).\n"
   ]
  },
  {
   "cell_type": "code",
   "execution_count": 54,
   "metadata": {
    "collapsed": true,
    "slideshow": {
     "slide_type": "subslide"
    }
   },
   "outputs": [],
   "source": [
    "\n",
    "# Class names typically start with upper case\n",
    "class Animal(object):\n",
    "    \"\"\" An animal that exists_since (in MY) and has a color \"\"\"\n",
    "    \n",
    "    # They always need a __init__ method, for creation (i.e.: instanciation)\n",
    "    def __init__(self, exists_since, color):\n",
    "        self.exists_since = exists_since\n",
    "        self.color = color\n",
    "        \n",
    "    def ismammal(self):\n",
    "        if self.exists_since>200:\n",
    "            out = False\n",
    "        else:\n",
    "            out = True\n",
    "        return out\n",
    "    \n",
    "class Monkey(Animal):\n",
    "    \"\"\" A monkey class, automatically mammal\"\"\"\n",
    "    \n",
    "    def __init__(self, color):\n",
    "        self.exists_since = 50\n",
    "        self.color = color\n",
    "    "
   ]
  },
  {
   "cell_type": "code",
   "execution_count": 56,
   "metadata": {
    "slideshow": {
     "slide_type": "subslide"
    }
   },
   "outputs": [
    {
     "name": "stdout",
     "output_type": "stream",
     "text": [
      "False\n",
      "True\n"
     ]
    }
   ],
   "source": [
    "Denver = Animal(230, 'red')\n",
    "Me = Monkey('blue')\n",
    "\n",
    "print(Denver.ismammal())\n",
    "print(Me.ismammal())"
   ]
  }
 ],
 "metadata": {
  "celltoolbar": "Slideshow",
  "kernelspec": {
   "display_name": "Python 3",
   "language": "python",
   "name": "python3"
  },
  "language_info": {
   "codemirror_mode": {
    "name": "ipython",
    "version": 3
   },
   "file_extension": ".py",
   "mimetype": "text/x-python",
   "name": "python",
   "nbconvert_exporter": "python",
   "pygments_lexer": "ipython3",
   "version": "3.6.1"
  }
 },
 "nbformat": 4,
 "nbformat_minor": 2
}
