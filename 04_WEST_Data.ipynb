{
 "cells": [
  {
   "cell_type": "markdown",
   "metadata": {
    "slideshow": {
     "slide_type": "slide"
    }
   },
   "source": [
    "# WEST Data"
   ]
  },
  {
   "cell_type": "markdown",
   "metadata": {
    "slideshow": {
     "slide_type": "slide"
    }
   },
   "source": [
    "## IMAS"
   ]
  },
  {
   "cell_type": "markdown",
   "metadata": {
    "slideshow": {
     "slide_type": "subslide"
    }
   },
   "source": [
    "The following instructions allow to get and plot interferometer WEST data:"
   ]
  },
  {
   "cell_type": "code",
   "execution_count": null,
   "metadata": {
    "slideshow": {
     "slide_type": "fragment"
    }
   },
   "outputs": [],
   "source": [
    "import imas\n",
    "%matplotlib inline\n",
    "import matplotlib.pyplot as plt\n",
    "import seaborn; seaborn.set()  # set plot style"
   ]
  },
  {
   "cell_type": "code",
   "execution_count": null,
   "metadata": {
    "slideshow": {
     "slide_type": "subslide"
    }
   },
   "outputs": [],
   "source": [
    "idd = imas.ids(52702, 0)\n",
    "idd.open_env('imas_public', 'west', '3')"
   ]
  },
  {
   "cell_type": "code",
   "execution_count": null,
   "metadata": {
    "slideshow": {
     "slide_type": "fragment"
    }
   },
   "outputs": [],
   "source": [
    "idd.interferometer.get()"
   ]
  },
  {
   "cell_type": "code",
   "execution_count": null,
   "metadata": {
    "slideshow": {
     "slide_type": "subslide"
    }
   },
   "outputs": [],
   "source": [
    "for i in range(len(idd.interferometer.channel)):\n",
    "    if (idd.interferometer.channel[i].n_e_line_validity > -2):\n",
    "        plt.plot(idd.interferometer.time, idd.interferometer.channel[i].n_e_line.data)"
   ]
  },
  {
   "cell_type": "markdown",
   "metadata": {
    "slideshow": {
     "slide_type": "subslide"
    }
   },
   "source": [
    "And for bolometer data:"
   ]
  },
  {
   "cell_type": "code",
   "execution_count": null,
   "metadata": {
    "slideshow": {
     "slide_type": "fragment"
    }
   },
   "outputs": [],
   "source": [
    "idd.bolometer.get()"
   ]
  },
  {
   "cell_type": "code",
   "execution_count": null,
   "metadata": {
    "slideshow": {
     "slide_type": "fragment"
    }
   },
   "outputs": [],
   "source": [
    "for i in range(len(idd.bolometer.channel)):\n",
    "    if (idd.bolometer.channel[i].n_e_line_validity > -2):\n",
    "        plt.plot(idd.bolometer.time, idd.bolometer.channel[i].power.data)"
   ]
  },
  {
   "cell_type": "markdown",
   "metadata": {
    "slideshow": {
     "slide_type": "slide"
    }
   },
   "source": [
    "## PyWED"
   ]
  },
  {
   "cell_type": "markdown",
   "metadata": {
    "slideshow": {
     "slide_type": "subslide"
    }
   },
   "source": [
    "PyWED = Python for West Experimental Data = TSlib en Python"
   ]
  },
  {
   "cell_type": "code",
   "execution_count": 6,
   "metadata": {
    "collapsed": true,
    "slideshow": {
     "slide_type": "fragment"
    }
   },
   "outputs": [],
   "source": [
    "import pywed"
   ]
  },
  {
   "cell_type": "code",
   "execution_count": 3,
   "metadata": {
    "collapsed": true,
    "slideshow": {
     "slide_type": "fragment"
    }
   },
   "outputs": [],
   "source": [
    "ip,t,infos=pywed.tsbase(47979, 'sipmes')"
   ]
  },
  {
   "cell_type": "code",
   "execution_count": 4,
   "metadata": {
    "slideshow": {
     "slide_type": "fragment"
    }
   },
   "outputs": [
    {
     "data": {
      "text/plain": [
       "[[], 40, '08/07/2011', '17:54:49', 'mcs', 'MA', '', 'SIPMES', 'B']"
      ]
     },
     "execution_count": 4,
     "metadata": {},
     "output_type": "execute_result"
    }
   ],
   "source": [
    "infos"
   ]
  },
  {
   "cell_type": "code",
   "execution_count": 9,
   "metadata": {
    "slideshow": {
     "slide_type": "fragment"
    }
   },
   "outputs": [],
   "source": [
    "# ATTENTION !\n",
    "# la fonction tsbase s'attend à un certain nombre d'arguments en sortie\n",
    "# Si le nombre d'arguments en sortie n'est pas le bon --> erreur\n",
    "# Pour éviter cela, on peut préciser d'avance le nombre de param de sortie :\n",
    "ip,t = pywed.tsbase(47979, 'sipmes', nargout=2) # comportement similaire Matlab"
   ]
  },
  {
   "cell_type": "markdown",
   "metadata": {
    "slideshow": {
     "slide_type": "slide"
    }
   },
   "source": [
    "## IRFMtb\n",
    "Toolbox IRFM"
   ]
  },
  {
   "cell_type": "code",
   "execution_count": 11,
   "metadata": {
    "collapsed": true,
    "slideshow": {
     "slide_type": "subslide"
    }
   },
   "outputs": [],
   "source": [
    "import IRFMtb"
   ]
  },
  {
   "cell_type": "code",
   "execution_count": 12,
   "metadata": {
    "slideshow": {
     "slide_type": "fragment"
    }
   },
   "outputs": [
    {
     "data": {
      "text/plain": [
       "48451"
      ]
     },
     "execution_count": 12,
     "metadata": {},
     "output_type": "execute_result"
    }
   ],
   "source": [
    "IRFMtb.tsdernier_choc() # Or : pywed.TSGetInfo()"
   ]
  },
  {
   "cell_type": "code",
   "execution_count": 13,
   "metadata": {
    "slideshow": {
     "slide_type": "subslide"
    }
   },
   "outputs": [
    {
     "data": {
      "text/plain": [
       "['CWS',\n",
       " 'IRFMtb',\n",
       " '__builtins__',\n",
       " '__cached__',\n",
       " '__doc__',\n",
       " '__file__',\n",
       " '__loader__',\n",
       " '__name__',\n",
       " '__package__',\n",
       " '__path__',\n",
       " '__spec__',\n",
       " '__version__',\n",
       " 'access',\n",
       " 'car4',\n",
       " 'clearWorkSpace',\n",
       " 'cround',\n",
       " 'cspline',\n",
       " 'ctable1',\n",
       " 'datetime',\n",
       " 'divers',\n",
       " 'entier4',\n",
       " 'getArrayBounds',\n",
       " 'getArrayRange',\n",
       " 'getFloat',\n",
       " 'getInputType',\n",
       " 'getInt',\n",
       " 'getStr',\n",
       " 'ifloor',\n",
       " 'ifloor1',\n",
       " 'initocctrait',\n",
       " 'iround',\n",
       " 'isempty',\n",
       " 'math',\n",
       " 'nbwrite',\n",
       " 'np',\n",
       " 'os',\n",
       " 'pywed',\n",
       " 'reel4',\n",
       " 'resizeResultTuple',\n",
       " 'struct',\n",
       " 'sys',\n",
       " 'tbCommentSize',\n",
       " 'tbCommon',\n",
       " 'tbDateSize',\n",
       " 'tbDirectorySize',\n",
       " 'tbEx',\n",
       " 'tbLength',\n",
       " 'tbShape',\n",
       " 'tbx',\n",
       " 'toolboxException',\n",
       " 'tsample',\n",
       " 'tsbase_cert',\n",
       " 'tsdernier_choc',\n",
       " 'tsinitocctrait',\n",
       " 'tsoccur',\n",
       " 'tsrfile',\n",
       " 'tsupdateocctrait',\n",
       " 'tswfile',\n",
       " 'updateocctrait']"
      ]
     },
     "execution_count": 13,
     "metadata": {},
     "output_type": "execute_result"
    }
   ],
   "source": [
    "# Liste toutes les méthodes et attributs du module IRFMtb\n",
    "dir(IRFMtb) "
   ]
  }
 ],
 "metadata": {
  "celltoolbar": "Slideshow",
  "kernelspec": {
   "display_name": "Python 3",
   "language": "python",
   "name": "python3"
  },
  "language_info": {
   "codemirror_mode": {
    "name": "ipython",
    "version": 3
   },
   "file_extension": ".py",
   "mimetype": "text/x-python",
   "name": "python",
   "nbconvert_exporter": "python",
   "pygments_lexer": "ipython3",
   "version": "3.6.4"
  }
 },
 "nbformat": 4,
 "nbformat_minor": 1
}
